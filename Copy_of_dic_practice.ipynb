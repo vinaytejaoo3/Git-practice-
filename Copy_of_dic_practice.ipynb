{
  "nbformat": 4,
  "nbformat_minor": 0,
  "metadata": {
    "colab": {
      "provenance": [],
      "include_colab_link": true
    },
    "kernelspec": {
      "name": "python3",
      "display_name": "Python 3"
    },
    "language_info": {
      "name": "python"
    }
  },
  "cells": [
    {
      "cell_type": "markdown",
      "metadata": {
        "id": "view-in-github",
        "colab_type": "text"
      },
      "source": [
        "<a href=\"https://colab.research.google.com/github/vinaytejaoo3/Git-practice-/blob/main/Copy_of_dic_practice.ipynb\" target=\"_parent\"><img src=\"https://colab.research.google.com/assets/colab-badge.svg\" alt=\"Open In Colab\"/></a>"
      ]
    },
    {
      "cell_type": "code",
      "execution_count": null,
      "metadata": {
        "id": "t6KO55-VcJSz"
      },
      "outputs": [],
      "source": [
        "#dictionary\n",
        "#we can store items in a dic in akey value pairs key:value\n",
        "#it can be declared in {}\n",
        "#it is unordered ,it wont allow duplicats, it is mutable"
      ]
    },
    {
      "cell_type": "code",
      "source": [
        "d = {\"name\":\"python\", \"last_name\":\"programing\",\"age\":30,\"module\":True}\n",
        "print(d)\n",
        "print(type(d))\n",
        "print(d.keys())\n",
        "print(d.values())\n",
        "print(d.items())"
      ],
      "metadata": {
        "colab": {
          "base_uri": "https://localhost:8080/"
        },
        "id": "-7oXkq2fctZx",
        "outputId": "8262a822-1fb3-4fe0-d2f0-19474d056f16"
      },
      "execution_count": null,
      "outputs": [
        {
          "output_type": "stream",
          "name": "stdout",
          "text": [
            "{'name': 'python', 'last_name': 'programing', 'age': 30, 'module': True}\n",
            "<class 'dict'>\n",
            "dict_keys(['name', 'last_name', 'age', 'module'])\n",
            "dict_values(['python', 'programing', 30, True])\n",
            "dict_items([('name', 'python'), ('last_name', 'programing'), ('age', 30), ('module', True)])\n"
          ]
        }
      ]
    },
    {
      "cell_type": "code",
      "source": [
        "#python is interpeted lang\n",
        "d = {\"name\":\"python\", \"last_name\":\"programing\",\"age\":30,\"module\":True,\"name\":\"java\"}\n",
        "print(d)"
      ],
      "metadata": {
        "colab": {
          "base_uri": "https://localhost:8080/"
        },
        "id": "km1cXXAoctWw",
        "outputId": "21736eae-45c0-4c2b-f316-2cbe5d258543"
      },
      "execution_count": null,
      "outputs": [
        {
          "output_type": "stream",
          "name": "stdout",
          "text": [
            "{'name': 'java', 'last_name': 'programing', 'age': 30, 'module': True}\n"
          ]
        }
      ]
    },
    {
      "cell_type": "code",
      "source": [
        "#dic wont allow duplicates\n",
        "d = {\"name\":\"python\", \"last_name\":\"programing\",\"age\":30,\"module\":True,\"age\":30}\n",
        "print(d)\n",
        "print(len(d))"
      ],
      "metadata": {
        "colab": {
          "base_uri": "https://localhost:8080/"
        },
        "id": "KHQzLt5PctUE",
        "outputId": "1aee78b1-1f00-499d-935c-aca96afa6859"
      },
      "execution_count": null,
      "outputs": [
        {
          "output_type": "stream",
          "name": "stdout",
          "text": [
            "{'name': 'python', 'last_name': 'programing', 'age': 30, 'module': True}\n",
            "4\n"
          ]
        }
      ]
    },
    {
      "cell_type": "code",
      "source": [
        "#dic is unorder\n",
        "#how can we access elements from dic\n",
        "#by using keys we can access elements from dic\n",
        "print(d['name'])\n",
        "print(d.get('name'))\n",
        "\n",
        "#how can we change values for particular key\n",
        "d['name']=\"c++\"\n",
        "print(d)"
      ],
      "metadata": {
        "colab": {
          "base_uri": "https://localhost:8080/"
        },
        "id": "uiM-w_JNctRf",
        "outputId": "3110bc14-65f5-49e7-cb36-26b5b3abe525"
      },
      "execution_count": null,
      "outputs": [
        {
          "output_type": "stream",
          "name": "stdout",
          "text": [
            "python\n",
            "python\n",
            "{'name': 'c++', 'last_name': 'programing', 'age': 30, 'module': True}\n"
          ]
        }
      ]
    },
    {
      "cell_type": "code",
      "source": [
        "#upadte is also similar method we are using to update/replace values in dic\n",
        "d.update({'module':\"yes\"})\n",
        "print(d)"
      ],
      "metadata": {
        "colab": {
          "base_uri": "https://localhost:8080/"
        },
        "id": "ap2QY2jictOj",
        "outputId": "14d22238-8f53-4451-c02c-92f75b01b290"
      },
      "execution_count": null,
      "outputs": [
        {
          "output_type": "stream",
          "name": "stdout",
          "text": [
            "{'name': 'c++', 'last_name': 'programing', 'age': 30, 'module': 'yes'}\n"
          ]
        }
      ]
    },
    {
      "cell_type": "code",
      "source": [
        "#how can we add new ele to dic\n",
        "d[\"typed\"]= \"dynamically \"\n",
        "print(d) #if the input key is already present  the values can be replace if the values is not there then it add the value\n"
      ],
      "metadata": {
        "colab": {
          "base_uri": "https://localhost:8080/"
        },
        "id": "MznTRLi8ctL4",
        "outputId": "cf0c8f52-500f-4ca2-9113-6be05bafefb1"
      },
      "execution_count": null,
      "outputs": [
        {
          "output_type": "stream",
          "name": "stdout",
          "text": [
            "{'name': 'c++', 'last_name': 'programing', 'age': 30, 'module': 'yes', 'typed': 'dynamically '}\n"
          ]
        }
      ]
    },
    {
      "cell_type": "code",
      "source": [
        "#how can we remove the items in dic\n",
        "#pop(keys())\n",
        "d.pop('typed')\n",
        "print(d)"
      ],
      "metadata": {
        "colab": {
          "base_uri": "https://localhost:8080/"
        },
        "id": "MTm8XhISh61y",
        "outputId": "19f41a72-f1af-49db-d1d4-3019b2442a78"
      },
      "execution_count": null,
      "outputs": [
        {
          "output_type": "stream",
          "name": "stdout",
          "text": [
            "{'name': 'c++', 'last_name': 'programing', 'age': 30, 'module': 'yes'}\n"
          ]
        }
      ]
    },
    {
      "cell_type": "code",
      "source": [
        "d = {\"name\":[\"python\",'c++',\"java\"], \"last_name\":\"programing\",\"age\":30,\"module\":True}\n",
        "print(d['name'][1])"
      ],
      "metadata": {
        "colab": {
          "base_uri": "https://localhost:8080/"
        },
        "id": "4f9C1pDWlNgw",
        "outputId": "673695d8-939c-44b7-ad2a-f2c613ed19ce"
      },
      "execution_count": null,
      "outputs": [
        {
          "output_type": "stream",
          "name": "stdout",
          "text": [
            "c++\n"
          ]
        }
      ]
    },
    {
      "cell_type": "code",
      "source": [
        "#add new items into th list in name\n",
        "d['name'].append('R')\n",
        "print(d)\n",
        "print(d[\"name\"][3])"
      ],
      "metadata": {
        "colab": {
          "base_uri": "https://localhost:8080/"
        },
        "id": "hf1hDQhXlOK4",
        "outputId": "107614f7-bb5c-4e60-c5dd-fcc2ca010a32"
      },
      "execution_count": null,
      "outputs": [
        {
          "output_type": "stream",
          "name": "stdout",
          "text": [
            "{'name': ['python', 'js', 'javasc', 'R'], 'last_name': 'programing', 'age': 30, 'module': True}\n",
            "R\n"
          ]
        }
      ]
    },
    {
      "cell_type": "code",
      "source": [
        "#delete js from name\n",
        "del(d['name'][1])\n",
        "print(d)"
      ],
      "metadata": {
        "colab": {
          "base_uri": "https://localhost:8080/"
        },
        "id": "Ma4u_xxeh6yY",
        "outputId": "e7722cf0-5464-4907-e382-224bf7371f60"
      },
      "execution_count": null,
      "outputs": [
        {
          "output_type": "stream",
          "name": "stdout",
          "text": [
            "{'name': ['python', 'javasc', 'R'], 'last_name': 'programing', 'age': 30, 'module': True}\n"
          ]
        }
      ]
    },
    {
      "cell_type": "code",
      "source": [
        "d.clear()\n",
        "print(d)"
      ],
      "metadata": {
        "colab": {
          "base_uri": "https://localhost:8080/"
        },
        "id": "1cSNAPX7h6vj",
        "outputId": "add3f796-6139-40af-989f-ab3aa648b491"
      },
      "execution_count": null,
      "outputs": [
        {
          "output_type": "stream",
          "name": "stdout",
          "text": [
            "{}\n"
          ]
        }
      ]
    },
    {
      "cell_type": "code",
      "source": [
        "#working with loops with dic\n",
        "d1 = {\"name\":[\"python\",'c',\"java\"], \"last_name\":\"programing\",\"age\":30,\"module\":True}\n",
        "#prints keys of dic using loops\n",
        "for i in d1.keys():\n",
        "  print(i)"
      ],
      "metadata": {
        "colab": {
          "base_uri": "https://localhost:8080/"
        },
        "id": "LKJf1vIjh6sZ",
        "outputId": "1e3c8780-2e41-424d-cdd8-5411d72ee68d"
      },
      "execution_count": null,
      "outputs": [
        {
          "output_type": "stream",
          "name": "stdout",
          "text": [
            "name\n",
            "last_name\n",
            "age\n",
            "module\n"
          ]
        }
      ]
    },
    {
      "cell_type": "code",
      "source": [
        "for i in d1.values():\n",
        "  print(d1)"
      ],
      "metadata": {
        "colab": {
          "base_uri": "https://localhost:8080/"
        },
        "id": "zSujffmoh6pI",
        "outputId": "5e7b6198-fc90-4ba4-b612-969f7c2c26a3"
      },
      "execution_count": null,
      "outputs": [
        {
          "output_type": "stream",
          "name": "stdout",
          "text": [
            "{'name': ['python', 'c', 'java'], 'last_name': 'programing', 'age': 30, 'module': True}\n",
            "{'name': ['python', 'c', 'java'], 'last_name': 'programing', 'age': 30, 'module': True}\n",
            "{'name': ['python', 'c', 'java'], 'last_name': 'programing', 'age': 30, 'module': True}\n",
            "{'name': ['python', 'c', 'java'], 'last_name': 'programing', 'age': 30, 'module': True}\n"
          ]
        }
      ]
    },
    {
      "cell_type": "code",
      "source": [
        "for i,j in d1.items():\n",
        "  print(i,j)\n",
        "for x in d1.keys():\n",
        "  print(f'{x}:{d1[x]}')\n"
      ],
      "metadata": {
        "colab": {
          "base_uri": "https://localhost:8080/"
        },
        "id": "yg1oqhxlh6mC",
        "outputId": "25e71950-263d-4a5a-b27e-6e96bc91d46e"
      },
      "execution_count": null,
      "outputs": [
        {
          "output_type": "stream",
          "name": "stdout",
          "text": [
            "name ['python', 'c', 'java']\n",
            "last_name programing\n",
            "age 30\n",
            "module True\n",
            "name:['python', 'c', 'java']\n",
            "last_name:programing\n",
            "age:30\n",
            "module:True\n"
          ]
        }
      ]
    },
    {
      "cell_type": "code",
      "source": [
        "# dict--->{},it is  unorder ,its stored in key&value pair ,wont allow duplicate and values ,where values are changable and keys are un changable\n",
        "#list-->[],it is order , it can allow dulipcates , and mutable\n",
        "#tuple-->[],ordered,it wont allow duplicates,immutable\n",
        "#sets-->unorderd,it wont allow duplicates,immutable"
      ],
      "metadata": {
        "id": "weU69kERh6jB"
      },
      "execution_count": null,
      "outputs": []
    },
    {
      "cell_type": "code",
      "source": [
        "#escape char are used to print illegal char\n",
        "print('dwuyan\\\"the rock\\\"khson')"
      ],
      "metadata": {
        "colab": {
          "base_uri": "https://localhost:8080/"
        },
        "id": "RTLWIyCmh6f3",
        "outputId": "bc9da8af-1bf5-42d5-86ac-799f76003bc9"
      },
      "execution_count": null,
      "outputs": [
        {
          "output_type": "stream",
          "name": "stdout",
          "text": [
            "dwuyan\"the rock\"khson\n"
          ]
        }
      ]
    },
    {
      "cell_type": "code",
      "source": [],
      "metadata": {
        "id": "lKCJt7hbh6cr"
      },
      "execution_count": null,
      "outputs": []
    },
    {
      "cell_type": "code",
      "source": [],
      "metadata": {
        "id": "Rmj1CXJXh6Vc"
      },
      "execution_count": null,
      "outputs": []
    },
    {
      "cell_type": "code",
      "source": [],
      "metadata": {
        "id": "_GLPv8EectJO"
      },
      "execution_count": null,
      "outputs": []
    },
    {
      "cell_type": "code",
      "source": [],
      "metadata": {
        "id": "g58ofxVdctGj"
      },
      "execution_count": null,
      "outputs": []
    },
    {
      "cell_type": "code",
      "source": [],
      "metadata": {
        "id": "qzRlFHyxctD6"
      },
      "execution_count": null,
      "outputs": []
    },
    {
      "cell_type": "code",
      "source": [],
      "metadata": {
        "id": "iLcPy_yrcs8v"
      },
      "execution_count": null,
      "outputs": []
    },
    {
      "cell_type": "code",
      "source": [],
      "metadata": {
        "id": "APh7ciihcs5P"
      },
      "execution_count": null,
      "outputs": []
    }
  ]
}